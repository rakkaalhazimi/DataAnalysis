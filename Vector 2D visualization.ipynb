{
 "cells": [
  {
   "cell_type": "code",
   "execution_count": 2,
   "metadata": {},
   "outputs": [],
   "source": [
    "import numpy as np\n",
    "import matplotlib.pyplot as plt"
   ]
  },
  {
   "cell_type": "code",
   "execution_count": 3,
   "metadata": {},
   "outputs": [],
   "source": [
    "%matplotlib inline"
   ]
  },
  {
   "cell_type": "code",
   "execution_count": 3,
   "metadata": {},
   "outputs": [
    {
     "name": "stdout",
     "output_type": "stream",
     "text": [
      "rakka\n"
     ]
    }
   ],
   "source": [
    "def a(*args):\n",
    "    print(*args)\n",
    "\n",
    "a(\"rakka\")"
   ]
  },
  {
   "cell_type": "code",
   "execution_count": 107,
   "metadata": {
    "scrolled": true
   },
   "outputs": [
    {
     "data": {
      "text/plain": [
       "array([6, 8])"
      ]
     },
     "execution_count": 107,
     "metadata": {},
     "output_type": "execute_result"
    }
   ],
   "source": [
    "np.sum(np.array([[2, 3], [4, 5]]), axis=0)"
   ]
  },
  {
   "cell_type": "code",
   "execution_count": 117,
   "metadata": {},
   "outputs": [
    {
     "name": "stdout",
     "output_type": "stream",
     "text": [
      "[1 6]\n"
     ]
    },
    {
     "data": {
      "image/png": "[encoded data removed]",
      "text/plain": [
       "<Figure size 504x504 with 1 Axes>"
      ]
     },
     "metadata": {
      "needs_background": "light"
     },
     "output_type": "display_data"
    }
   ],
   "source": [
    "def vector_arrow(*coords):\n",
    "    \"\"\"Plot a single or multiple vector arrows and return the sum of vectors\n",
    "        Argument :\n",
    "            *coords : any 2 x 1 matrix or similar (represent vector)\n",
    "        \n",
    "        Return :\n",
    "            - Sum of the vector\n",
    "    \"\"\"\n",
    "    \n",
    "    # Validate the arguments\n",
    "    for clist in coords:\n",
    "        assert type(clist) == list, \"Argument must be list or tuple\"\n",
    "        for cobj in clist:\n",
    "            assert type(cobj) == int or float, \"Argument must be int or float\"\n",
    "    \n",
    "    # Plot the vector\n",
    "    ax = plt.gca()\n",
    "    arrowprops = dict(width=0.1, fc='k', headwidth=10)\n",
    "    origin = np.array([0, 0])\n",
    "    prev_vector = np.array([0, 0])\n",
    "    \n",
    "    \n",
    "    if len(coords) > 1:\n",
    "        for vector in coords:\n",
    "            vector += prev_vector\n",
    "            ax.annotate(\"\", xy=vector, xytext=origin, arrowprops=arrowprops)\n",
    "            \n",
    "            prev_vector = origin = vector\n",
    "            \n",
    "            \n",
    "    else:\n",
    "        ax.annotate(\"\", xy=[2, 3], xytext=origin, arrowprops=arrowprops);\n",
    "    \n",
    "    # Sum of the vector\n",
    "    sum_vector = np.sum(coords, axis=0)\n",
    "    arrow_sum_props = dict(width=0.1, fc='r', color='r', headwidth=10)\n",
    "    \n",
    "    ax.annotate(\"\", xy=sum_vector, xytext=(0, 0), arrowprops=arrow_sum_props)\n",
    "    print(np.sum(coords, axis=0))\n",
    "\n",
    "    \n",
    "# Instantiate figure and axis\n",
    "fig, ax = plt.subplots(figsize=(7, 7))\n",
    "\n",
    "arrowprops = dict(width=0.1, fc='k', headwidth=10)\n",
    "\n",
    "coords = np.array([2, 3])\n",
    "\n",
    "# set centered spine\n",
    "ax.spines['left'].set_position('center')\n",
    "ax.spines['right'].set_color('none')\n",
    "ax.spines['top'].set_color('none')\n",
    "ax.spines['bottom'].set_position('center')\n",
    "\n",
    "# set vector arrows\n",
    "vector_arrow([2, 2], [3, 2], [-4, 2])\n",
    "\n",
    "# x and y ticks\n",
    "ax.set(xticks=range(-10, 11), yticks=range(-10, 11));"
   ]
  }
 ],
 "metadata": {
  "kernelspec": {
   "display_name": "Python 3",
   "language": "python",
   "name": "python3"
  },
  "language_info": {
   "codemirror_mode": {
    "name": "ipython",
    "version": 3
   },
   "file_extension": ".py",
   "mimetype": "text/x-python",
   "name": "python",
   "nbconvert_exporter": "python",
   "pygments_lexer": "ipython3",
   "version": "3.7.4"
  }
 },
 "nbformat": 4,
 "nbformat_minor": 2
}

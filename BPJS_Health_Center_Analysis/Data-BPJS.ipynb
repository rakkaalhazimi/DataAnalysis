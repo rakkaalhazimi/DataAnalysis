{
 "cells": [
  {
   "cell_type": "markdown",
   "metadata": {},
   "source": [
    "# BPJS Health Facilities Analysis"
   ]
  },
  {
   "cell_type": "markdown",
   "metadata": {},
   "source": [
    "### First, let import some important modules"
   ]
  },
  {
   "cell_type": "code",
   "execution_count": 1,
   "metadata": {},
   "outputs": [],
   "source": [
    "import pandas as pd\n",
    "import numpy as np\n",
    "import matplotlib.pyplot as plt\n",
    "import seaborn as sns; sns.set()"
   ]
  },
  {
   "cell_type": "code",
   "execution_count": 2,
   "metadata": {},
   "outputs": [],
   "source": [
    "%matplotlib inline"
   ]
  },
  {
   "cell_type": "code",
   "execution_count": null,
   "metadata": {},
   "outputs": [],
   "source": []
  },
  {
   "cell_type": "markdown",
   "metadata": {},
   "source": [
    "### Then, let's see what the data looks like"
   ]
  },
  {
   "cell_type": "code",
   "execution_count": 3,
   "metadata": {
    "scrolled": true
   },
   "outputs": [
    {
     "data": {
      "text/html": [
       "<div>\n",
       "<style scoped>\n",
       "    .dataframe tbody tr th:only-of-type {\n",
       "        vertical-align: middle;\n",
       "    }\n",
       "\n",
       "    .dataframe tbody tr th {\n",
       "        vertical-align: top;\n",
       "    }\n",
       "\n",
       "    .dataframe thead th {\n",
       "        text-align: right;\n",
       "    }\n",
       "</style>\n",
       "<table border=\"1\" class=\"dataframe\">\n",
       "  <thead>\n",
       "    <tr style=\"text-align: right;\">\n",
       "      <th></th>\n",
       "      <th>NoLink</th>\n",
       "      <th>Provinsi</th>\n",
       "      <th>KotaKab</th>\n",
       "      <th>Link</th>\n",
       "      <th>TipeFaskes</th>\n",
       "      <th>No</th>\n",
       "      <th>KodeFaskes</th>\n",
       "      <th>NamaFaskes</th>\n",
       "      <th>LatLongFaskes</th>\n",
       "      <th>AlamatFaskes</th>\n",
       "      <th>TelpFaskes</th>\n",
       "    </tr>\n",
       "  </thead>\n",
       "  <tbody>\n",
       "    <tr>\n",
       "      <td>0</td>\n",
       "      <td>0</td>\n",
       "      <td>Nanggroe Aceh Darussalam</td>\n",
       "      <td>Kode Faskes dan Alamat Rumah Sakit BPJS di Kot...</td>\n",
       "      <td>https://lovia.life/id/health/bpjs/area/kota-la...</td>\n",
       "      <td>Rumah Sakit</td>\n",
       "      <td>1</td>\n",
       "      <td>0001R001</td>\n",
       "      <td>RSU Cut Nyak Dhien\\r\\n                    \\r\\n...</td>\n",
       "      <td>http://maps.google.co.id/?q=4.488058,97.947963</td>\n",
       "      <td>Jl. Tm Bahrum No. 1 Langsa</td>\n",
       "      <td>\\r\\n 0641-0621039\\r\\n</td>\n",
       "    </tr>\n",
       "    <tr>\n",
       "      <td>1</td>\n",
       "      <td>0</td>\n",
       "      <td>Nanggroe Aceh Darussalam</td>\n",
       "      <td>Kode Faskes dan Alamat Rumah Sakit BPJS di Kot...</td>\n",
       "      <td>https://lovia.life/id/health/bpjs/area/kota-la...</td>\n",
       "      <td>Rumah Sakit</td>\n",
       "      <td>2</td>\n",
       "      <td>0001R004</td>\n",
       "      <td>RSU Cut Meutia Langsa\\r\\n                    \\...</td>\n",
       "      <td>http://maps.google.co.id/?q=4.488088,97.947781</td>\n",
       "      <td>Jl.Garuda Kebun Baru Langsa</td>\n",
       "      <td>\\r\\n 0641- 4840076\\r\\n</td>\n",
       "    </tr>\n",
       "    <tr>\n",
       "      <td>2</td>\n",
       "      <td>0</td>\n",
       "      <td>Nanggroe Aceh Darussalam</td>\n",
       "      <td>Kode Faskes dan Alamat Rumah Sakit BPJS di Kot...</td>\n",
       "      <td>https://lovia.life/id/health/bpjs/area/kota-la...</td>\n",
       "      <td>Rumah Sakit</td>\n",
       "      <td>3</td>\n",
       "      <td>0105R001</td>\n",
       "      <td>RSUD Langsa\\r\\n                    \\r\\n       ...</td>\n",
       "      <td>http://maps.google.co.id/?q=4.472208,97.975533</td>\n",
       "      <td>Jln.A.Yani No. 1 Langsa</td>\n",
       "      <td>\\r\\n 0641-22051\\r\\n</td>\n",
       "    </tr>\n",
       "    <tr>\n",
       "      <td>3</td>\n",
       "      <td>0</td>\n",
       "      <td>Nanggroe Aceh Darussalam</td>\n",
       "      <td>Kode Faskes dan Alamat Rumah Sakit BPJS di Kot...</td>\n",
       "      <td>https://lovia.life/id/health/bpjs/area/kota-la...</td>\n",
       "      <td>Rumah Sakit</td>\n",
       "      <td>4</td>\n",
       "      <td>0105R013</td>\n",
       "      <td>RSU Ummi \\r\\n                    \\r\\n         ...</td>\n",
       "      <td>http://maps.google.co.id/?q=4.470376,97.991915</td>\n",
       "      <td>Jln. Prof. A. Madjid Ibrahim</td>\n",
       "      <td>\\r\\n 0641-22886\\r\\n</td>\n",
       "    </tr>\n",
       "    <tr>\n",
       "      <td>4</td>\n",
       "      <td>0</td>\n",
       "      <td>Nanggroe Aceh Darussalam</td>\n",
       "      <td>Kode Faskes dan Alamat Rumah Sakit BPJS di Kot...</td>\n",
       "      <td>https://lovia.life/id/health/bpjs/area/kota-la...</td>\n",
       "      <td>Puskesmas</td>\n",
       "      <td>1</td>\n",
       "      <td>00010001</td>\n",
       "      <td>Langsa Lama\\r\\n                    \\r\\n       ...</td>\n",
       "      <td>http://maps.google.co.id/?q=4.478172,97.949988</td>\n",
       "      <td>Gampong Meurandeh Dayah</td>\n",
       "      <td>\\r\\n 0641-064121218\\r\\n</td>\n",
       "    </tr>\n",
       "    <tr>\n",
       "      <td>...</td>\n",
       "      <td>...</td>\n",
       "      <td>...</td>\n",
       "      <td>...</td>\n",
       "      <td>...</td>\n",
       "      <td>...</td>\n",
       "      <td>...</td>\n",
       "      <td>...</td>\n",
       "      <td>...</td>\n",
       "      <td>...</td>\n",
       "      <td>...</td>\n",
       "      <td>...</td>\n",
       "    </tr>\n",
       "    <tr>\n",
       "      <td>29152</td>\n",
       "      <td>513</td>\n",
       "      <td>Kalimantan Utara</td>\n",
       "      <td>Kode Faskes dan Alamat Rumah Sakit BPJS di\\r\\n...</td>\n",
       "      <td>https://lovia.life/id/health/bpjs/area/kab-tan...</td>\n",
       "      <td>Dokter Praktik Perorangan</td>\n",
       "      <td>-</td>\n",
       "      <td>-</td>\n",
       "      <td>-</td>\n",
       "      <td>-</td>\n",
       "      <td>-</td>\n",
       "      <td>-</td>\n",
       "    </tr>\n",
       "    <tr>\n",
       "      <td>29153</td>\n",
       "      <td>513</td>\n",
       "      <td>Kalimantan Utara</td>\n",
       "      <td>Kode Faskes dan Alamat Rumah Sakit BPJS di\\r\\n...</td>\n",
       "      <td>https://lovia.life/id/health/bpjs/area/kab-tan...</td>\n",
       "      <td>Dokter Gigi</td>\n",
       "      <td>-</td>\n",
       "      <td>-</td>\n",
       "      <td>-</td>\n",
       "      <td>-</td>\n",
       "      <td>-</td>\n",
       "      <td>-</td>\n",
       "    </tr>\n",
       "    <tr>\n",
       "      <td>29154</td>\n",
       "      <td>513</td>\n",
       "      <td>Kalimantan Utara</td>\n",
       "      <td>Kode Faskes dan Alamat Rumah Sakit BPJS di\\r\\n...</td>\n",
       "      <td>https://lovia.life/id/health/bpjs/area/kab-tan...</td>\n",
       "      <td>Klinik Utama</td>\n",
       "      <td>-</td>\n",
       "      <td>-</td>\n",
       "      <td>-</td>\n",
       "      <td>-</td>\n",
       "      <td>-</td>\n",
       "      <td>-</td>\n",
       "    </tr>\n",
       "    <tr>\n",
       "      <td>29155</td>\n",
       "      <td>513</td>\n",
       "      <td>Kalimantan Utara</td>\n",
       "      <td>Kode Faskes dan Alamat Rumah Sakit BPJS di\\r\\n...</td>\n",
       "      <td>https://lovia.life/id/health/bpjs/area/kab-tan...</td>\n",
       "      <td>Klinik Pratama</td>\n",
       "      <td>1</td>\n",
       "      <td>0472B001</td>\n",
       "      <td>RSUD Akhmad Berahim \\r\\n                    \\r...</td>\n",
       "      <td>-</td>\n",
       "      <td>Jl. Perintis Km I</td>\n",
       "      <td>\\r\\n 0813-86928242\\r\\n</td>\n",
       "    </tr>\n",
       "    <tr>\n",
       "      <td>29156</td>\n",
       "      <td>513</td>\n",
       "      <td>Kalimantan Utara</td>\n",
       "      <td>Kode Faskes dan Alamat Rumah Sakit BPJS di\\r\\n...</td>\n",
       "      <td>https://lovia.life/id/health/bpjs/area/kab-tan...</td>\n",
       "      <td>Apotek</td>\n",
       "      <td>-</td>\n",
       "      <td>-</td>\n",
       "      <td>-</td>\n",
       "      <td>-</td>\n",
       "      <td>-</td>\n",
       "      <td>-</td>\n",
       "    </tr>\n",
       "  </tbody>\n",
       "</table>\n",
       "<p>29157 rows × 11 columns</p>\n",
       "</div>"
      ],
      "text/plain": [
       "       NoLink                  Provinsi  \\\n",
       "0           0  Nanggroe Aceh Darussalam   \n",
       "1           0  Nanggroe Aceh Darussalam   \n",
       "2           0  Nanggroe Aceh Darussalam   \n",
       "3           0  Nanggroe Aceh Darussalam   \n",
       "4           0  Nanggroe Aceh Darussalam   \n",
       "...       ...                       ...   \n",
       "29152     513          Kalimantan Utara   \n",
       "29153     513          Kalimantan Utara   \n",
       "29154     513          Kalimantan Utara   \n",
       "29155     513          Kalimantan Utara   \n",
       "29156     513          Kalimantan Utara   \n",
       "\n",
       "                                                 KotaKab  \\\n",
       "0      Kode Faskes dan Alamat Rumah Sakit BPJS di Kot...   \n",
       "1      Kode Faskes dan Alamat Rumah Sakit BPJS di Kot...   \n",
       "2      Kode Faskes dan Alamat Rumah Sakit BPJS di Kot...   \n",
       "3      Kode Faskes dan Alamat Rumah Sakit BPJS di Kot...   \n",
       "4      Kode Faskes dan Alamat Rumah Sakit BPJS di Kot...   \n",
       "...                                                  ...   \n",
       "29152  Kode Faskes dan Alamat Rumah Sakit BPJS di\\r\\n...   \n",
       "29153  Kode Faskes dan Alamat Rumah Sakit BPJS di\\r\\n...   \n",
       "29154  Kode Faskes dan Alamat Rumah Sakit BPJS di\\r\\n...   \n",
       "29155  Kode Faskes dan Alamat Rumah Sakit BPJS di\\r\\n...   \n",
       "29156  Kode Faskes dan Alamat Rumah Sakit BPJS di\\r\\n...   \n",
       "\n",
       "                                                    Link  \\\n",
       "0      https://lovia.life/id/health/bpjs/area/kota-la...   \n",
       "1      https://lovia.life/id/health/bpjs/area/kota-la...   \n",
       "2      https://lovia.life/id/health/bpjs/area/kota-la...   \n",
       "3      https://lovia.life/id/health/bpjs/area/kota-la...   \n",
       "4      https://lovia.life/id/health/bpjs/area/kota-la...   \n",
       "...                                                  ...   \n",
       "29152  https://lovia.life/id/health/bpjs/area/kab-tan...   \n",
       "29153  https://lovia.life/id/health/bpjs/area/kab-tan...   \n",
       "29154  https://lovia.life/id/health/bpjs/area/kab-tan...   \n",
       "29155  https://lovia.life/id/health/bpjs/area/kab-tan...   \n",
       "29156  https://lovia.life/id/health/bpjs/area/kab-tan...   \n",
       "\n",
       "                      TipeFaskes No KodeFaskes  \\\n",
       "0                    Rumah Sakit  1   0001R001   \n",
       "1                    Rumah Sakit  2   0001R004   \n",
       "2                    Rumah Sakit  3   0105R001   \n",
       "3                    Rumah Sakit  4   0105R013   \n",
       "4                      Puskesmas  1   00010001   \n",
       "...                          ... ..        ...   \n",
       "29152  Dokter Praktik Perorangan  -          -   \n",
       "29153                Dokter Gigi  -          -   \n",
       "29154               Klinik Utama  -          -   \n",
       "29155             Klinik Pratama  1   0472B001   \n",
       "29156                     Apotek  -          -   \n",
       "\n",
       "                                              NamaFaskes  \\\n",
       "0      RSU Cut Nyak Dhien\\r\\n                    \\r\\n...   \n",
       "1      RSU Cut Meutia Langsa\\r\\n                    \\...   \n",
       "2      RSUD Langsa\\r\\n                    \\r\\n       ...   \n",
       "3      RSU Ummi \\r\\n                    \\r\\n         ...   \n",
       "4      Langsa Lama\\r\\n                    \\r\\n       ...   \n",
       "...                                                  ...   \n",
       "29152                                                  -   \n",
       "29153                                                  -   \n",
       "29154                                                  -   \n",
       "29155  RSUD Akhmad Berahim \\r\\n                    \\r...   \n",
       "29156                                                  -   \n",
       "\n",
       "                                        LatLongFaskes  \\\n",
       "0      http://maps.google.co.id/?q=4.488058,97.947963   \n",
       "1      http://maps.google.co.id/?q=4.488088,97.947781   \n",
       "2      http://maps.google.co.id/?q=4.472208,97.975533   \n",
       "3      http://maps.google.co.id/?q=4.470376,97.991915   \n",
       "4      http://maps.google.co.id/?q=4.478172,97.949988   \n",
       "...                                               ...   \n",
       "29152                                               -   \n",
       "29153                                               -   \n",
       "29154                                               -   \n",
       "29155                                               -   \n",
       "29156                                               -   \n",
       "\n",
       "                       AlamatFaskes               TelpFaskes  \n",
       "0        Jl. Tm Bahrum No. 1 Langsa    \\r\\n 0641-0621039\\r\\n  \n",
       "1       Jl.Garuda Kebun Baru Langsa   \\r\\n 0641- 4840076\\r\\n  \n",
       "2           Jln.A.Yani No. 1 Langsa      \\r\\n 0641-22051\\r\\n  \n",
       "3      Jln. Prof. A. Madjid Ibrahim      \\r\\n 0641-22886\\r\\n  \n",
       "4           Gampong Meurandeh Dayah  \\r\\n 0641-064121218\\r\\n  \n",
       "...                             ...                      ...  \n",
       "29152                             -                        -  \n",
       "29153                             -                        -  \n",
       "29154                             -                        -  \n",
       "29155             Jl. Perintis Km I   \\r\\n 0813-86928242\\r\\n  \n",
       "29156                             -                        -  \n",
       "\n",
       "[29157 rows x 11 columns]"
      ]
     },
     "execution_count": 3,
     "metadata": {},
     "output_type": "execute_result"
    }
   ],
   "source": [
    "df = pd.read_csv(\"Data Faskes BPJS 2019.csv\")\n",
    "df"
   ]
  },
  {
   "cell_type": "markdown",
   "metadata": {},
   "source": [
    "### The data is consist of 29.157 rows and 11 columns"
   ]
  },
  {
   "cell_type": "code",
   "execution_count": null,
   "metadata": {},
   "outputs": [],
   "source": []
  },
  {
   "cell_type": "markdown",
   "metadata": {},
   "source": [
    "### Ensure whether  the data have empty values or not "
   ]
  },
  {
   "cell_type": "code",
   "execution_count": 21,
   "metadata": {
    "scrolled": true
   },
   "outputs": [
    {
     "data": {
      "text/plain": [
       "NoLink           0\n",
       "Provinsi         0\n",
       "KotaKab          0\n",
       "Link             0\n",
       "TipeFaskes       0\n",
       "No               0\n",
       "KodeFaskes       0\n",
       "NamaFaskes       0\n",
       "LatLongFaskes    0\n",
       "AlamatFaskes     0\n",
       "TelpFaskes       0\n",
       "dtype: int64"
      ]
     },
     "execution_count": 21,
     "metadata": {},
     "output_type": "execute_result"
    }
   ],
   "source": [
    "df[df.isnull()].count()"
   ]
  },
  {
   "cell_type": "markdown",
   "metadata": {},
   "source": [
    "### It's confirmed, There are no empty data in each column"
   ]
  },
  {
   "cell_type": "code",
   "execution_count": null,
   "metadata": {},
   "outputs": [],
   "source": []
  },
  {
   "cell_type": "code",
   "execution_count": 4,
   "metadata": {
    "scrolled": true
   },
   "outputs": [],
   "source": [
    "# I'm clearing some whitespace in the data.\n",
    "df['NamaFaskes'] = df['NamaFaskes'].map(lambda x: x.replace('\\r\\n', '').strip())\n",
    "df['TelpFaskes'] = df['TelpFaskes'].map(lambda x: x.replace('\\r\\n', '').strip())"
   ]
  },
  {
   "cell_type": "code",
   "execution_count": null,
   "metadata": {},
   "outputs": [],
   "source": []
  },
  {
   "cell_type": "markdown",
   "metadata": {},
   "source": [
    "# Analyze the distribution of medical facilities"
   ]
  },
  {
   "cell_type": "code",
   "execution_count": 5,
   "metadata": {
    "scrolled": true
   },
   "outputs": [
    {
     "data": {
      "text/plain": [
       "Provinsi\n",
       "Bali                         765\n",
       "Banten                       913\n",
       "Bengkulu                     390\n",
       "D I Yogyakarta               534\n",
       "Dki Jakarta                  995\n",
       "Gorontalo                    206\n",
       "Jambi                        446\n",
       "Jawa Barat                  3683\n",
       "Jawa Tengah                 3688\n",
       "Jawa Timur                  3548\n",
       "Kalimantan Barat             531\n",
       "Kalimantan Selatan           671\n",
       "Kalimantan Tengah            418\n",
       "Kalimantan Timur             634\n",
       "Kalimantan Utara             140\n",
       "Kep. Bangka Belitung         182\n",
       "Kepulauan Riau               319\n",
       "Lampung                      784\n",
       "Maluku                       334\n",
       "Maluku Utara                 253\n",
       "Nanggroe Aceh Darussalam     776\n",
       "Nusa Tenggara Barat          393\n",
       "Nusa Tenggara Timur          722\n",
       "Papua                        712\n",
       "Papua Barat                  278\n",
       "Riau                         729\n",
       "Sulawesi Barat               187\n",
       "Sulawesi Selatan            1155\n",
       "Sulawesi Tengah              386\n",
       "Sulawesi Tenggara            500\n",
       "Sulawesi Utara               543\n",
       "Sumatera Barat               721\n",
       "Sumatera Selatan             993\n",
       "Sumatera Utara              1628\n",
       "Name: Provinsi, dtype: int64"
      ]
     },
     "execution_count": 5,
     "metadata": {},
     "output_type": "execute_result"
    }
   ],
   "source": [
    "# Group the data according to Province\n",
    "prov_count = df.groupby(\"Provinsi\")[\"Provinsi\"].count()\n",
    "prov_count"
   ]
  },
  {
   "cell_type": "code",
   "execution_count": 6,
   "metadata": {
    "scrolled": true
   },
   "outputs": [
    {
     "data": {
      "text/plain": [
       "Provinsi\n",
       "Bali                         2.623727\n",
       "Banten                       3.131324\n",
       "Bengkulu                     1.337586\n",
       "D I Yogyakarta               1.831464\n",
       "Dki Jakarta                  3.412560\n",
       "Gorontalo                    0.706520\n",
       "Jambi                        1.529650\n",
       "Jawa Barat                  12.631615\n",
       "Jawa Tengah                 12.648764\n",
       "Jawa Timur                  12.168604\n",
       "Kalimantan Barat             1.821175\n",
       "Kalimantan Selatan           2.301334\n",
       "Kalimantan Tengah            1.433618\n",
       "Kalimantan Timur             2.174435\n",
       "Kalimantan Utara             0.480159\n",
       "Kep. Bangka Belitung         0.624207\n",
       "Kepulauan Riau               1.094077\n",
       "Lampung                      2.688891\n",
       "Maluku                       1.145523\n",
       "Maluku Utara                 0.867716\n",
       "Nanggroe Aceh Darussalam     2.661454\n",
       "Nusa Tenggara Barat          1.347875\n",
       "Nusa Tenggara Timur          2.476249\n",
       "Papua                        2.441952\n",
       "Papua Barat                  0.953459\n",
       "Riau                         2.500257\n",
       "Sulawesi Barat               0.641355\n",
       "Sulawesi Selatan             3.961313\n",
       "Sulawesi Tengah              1.323867\n",
       "Sulawesi Tenggara            1.714854\n",
       "Sulawesi Utara               1.862332\n",
       "Sumatera Barat               2.472820\n",
       "Sumatera Selatan             3.405700\n",
       "Sumatera Utara               5.583565\n",
       "Name: Provinsi, dtype: float64"
      ]
     },
     "execution_count": 6,
     "metadata": {},
     "output_type": "execute_result"
    }
   ],
   "source": [
    "prov_dist = (prov_count / prov_count.sum()) * 100\n",
    "# prov_dist.map(\"{0:.2f}%\".format)\n",
    "prov_dist"
   ]
  },
  {
   "cell_type": "markdown",
   "metadata": {},
   "source": [
    "### From here, it seems that Central, East and West Java have higher allocation than the others province"
   ]
  },
  {
   "cell_type": "code",
   "execution_count": null,
   "metadata": {},
   "outputs": [],
   "source": []
  },
  {
   "cell_type": "markdown",
   "metadata": {},
   "source": [
    "### Let's visualize the data within each province"
   ]
  },
  {
   "cell_type": "code",
   "execution_count": 9,
   "metadata": {},
   "outputs": [
    {
     "data": {
      "image/png": "[encoded data removed]",
      "text/plain": [
       "<Figure size 720x720 with 1 Axes>"
      ]
     },
     "metadata": {
      "needs_background": "light"
     },
     "output_type": "display_data"
    }
   ],
   "source": [
    "ax = prov_dist.plot(title=\"Persebaran Faskes BPJS di Indonesia\" \n",
    "                    ,kind=\"barh\", figsize=(10,10), colormap=plt.cm.get_cmap(\"summer\"))\n",
    "fig = ax.get_figure()\n",
    "fig.savefig(\"BPJS.png\")"
   ]
  },
  {
   "cell_type": "markdown",
   "metadata": {},
   "source": [
    "### Central Java has "
   ]
  },
  {
   "cell_type": "markdown",
   "metadata": {},
   "source": [
    "### From the plot above, we can imply that the medical facilities disparity is occured in Indonesia. The goverment should consider in augmenting the quantities of medical facilities in other province as well as in Java.  "
   ]
  }
 ],
 "metadata": {
  "kernelspec": {
   "display_name": "Python 3",
   "language": "python",
   "name": "python3"
  },
  "language_info": {
   "codemirror_mode": {
    "name": "ipython",
    "version": 3
   },
   "file_extension": ".py",
   "mimetype": "text/x-python",
   "name": "python",
   "nbconvert_exporter": "python",
   "pygments_lexer": "ipython3",
   "version": "3.7.4"
  }
 },
 "nbformat": 4,
 "nbformat_minor": 2
}
